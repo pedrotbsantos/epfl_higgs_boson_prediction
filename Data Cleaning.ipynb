{
 "cells": [
  {
   "cell_type": "markdown",
   "metadata": {},
   "source": [
    "# Data Cleaning\n",
    "Analyse the training Dataset and clean the Data"
   ]
  },
  {
   "cell_type": "code",
   "execution_count": 1,
   "metadata": {},
   "outputs": [],
   "source": [
    "%matplotlib inline\n",
    "import numpy as np\n",
    "import matplotlib.pyplot as plt\n",
    "from helpers import *\n",
    "from data_cleaning_helpers import *\n",
    "%load_ext autoreload\n",
    "%autoreload 2"
   ]
  },
  {
   "cell_type": "markdown",
   "metadata": {},
   "source": [
    "Load CSV Data"
   ]
  },
  {
   "cell_type": "code",
   "execution_count": 2,
   "metadata": {},
   "outputs": [],
   "source": [
    "dataset_path = 'Data/train.csv'"
   ]
  },
  {
   "cell_type": "code",
   "execution_count": 3,
   "metadata": {},
   "outputs": [],
   "source": [
    "train_data = load_data_csv(dataset_path)"
   ]
  },
  {
   "cell_type": "code",
   "execution_count": 4,
   "metadata": {},
   "outputs": [],
   "source": [
    "save_original_train_data(train_data)"
   ]
  },
  {
   "cell_type": "code",
   "execution_count": 5,
   "metadata": {},
   "outputs": [
    {
     "name": "stdout",
     "output_type": "stream",
     "text": [
      "0\n",
      "0\n",
      "0\n",
      "0\n"
     ]
    }
   ],
   "source": [
    "check_dependencies(train_data)"
   ]
  },
  {
   "cell_type": "markdown",
   "metadata": {},
   "source": [
    "## Splitting the Data\n",
    "Here we split the Data, based on the PRI_jet_num. (Binning)"
   ]
  },
  {
   "cell_type": "code",
   "execution_count": 6,
   "metadata": {},
   "outputs": [],
   "source": [
    "train_data_0, train_data_1, train_data_2, train_data_3, index_0, index_1, index_2, index_3 = split_data(train_data)"
   ]
  },
  {
   "cell_type": "code",
   "execution_count": 7,
   "metadata": {},
   "outputs": [
    {
     "name": "stdout",
     "output_type": "stream",
     "text": [
      "(99913, 31)\n",
      "(77544, 31)\n",
      "(50379, 31)\n",
      "(22164, 31)\n"
     ]
    }
   ],
   "source": [
    "print(train_data_0.shape)\n",
    "print(train_data_1.shape)\n",
    "print(train_data_2.shape)\n",
    "print(train_data_3.shape)"
   ]
  },
  {
   "cell_type": "markdown",
   "metadata": {},
   "source": [
    "## Statistics for Columns\n",
    "Columns with missing data (based on -999 in Dataset)"
   ]
  },
  {
   "cell_type": "code",
   "execution_count": 8,
   "metadata": {},
   "outputs": [],
   "source": [
    "stats_0 = stat_cols(train_data_0, -999.0)\n",
    "stats_1 = stat_cols(train_data_1, -999.0)\n",
    "stats_2 = stat_cols(train_data_2, -999.0)\n",
    "stats_3 = stat_cols(train_data_3, -999.0)"
   ]
  },
  {
   "cell_type": "markdown",
   "metadata": {},
   "source": [
    "First Column is indicates the Column number of train_data <br>\n",
    "Second Column indicates the percentage of missing Data, based on -999"
   ]
  },
  {
   "cell_type": "code",
   "execution_count": 9,
   "metadata": {},
   "outputs": [
    {
     "name": "stdout",
     "output_type": "stream",
     "text": [
      "[[ 0.        0.      ]\n",
      " [ 0.        0.      ]\n",
      " [ 3.        0.152456]\n",
      " [ 4.        0.      ]\n",
      " [ 5.        0.      ]\n",
      " [ 6.        0.      ]\n",
      " [ 7.        0.709828]\n",
      " [ 8.        0.709828]\n",
      " [ 9.        0.709828]\n",
      " [10.        0.      ]\n",
      " [11.        0.      ]\n",
      " [12.        0.      ]\n",
      " [13.        0.      ]\n",
      " [14.        0.      ]\n",
      " [15.        0.709828]\n",
      " [16.        0.      ]\n",
      " [17.        0.      ]\n",
      " [18.        0.      ]\n",
      " [19.        0.      ]\n",
      " [20.        0.      ]\n",
      " [21.        0.      ]\n",
      " [22.        0.      ]\n",
      " [23.        0.      ]\n",
      " [24.        0.      ]\n",
      " [25.        0.      ]\n",
      " [26.        0.399652]\n",
      " [27.        0.399652]\n",
      " [28.        0.399652]\n",
      " [29.        0.709828]\n",
      " [30.        0.709828]\n",
      " [31.        0.709828]\n",
      " [32.        0.      ]]\n"
     ]
    }
   ],
   "source": [
    "stats_original = stat_cols(train_data, -999.0)\n",
    "print(stats_original)"
   ]
  },
  {
   "cell_type": "markdown",
   "metadata": {},
   "source": [
    "## Data Cleaning (Step 1)\n",
    "Delete the rows with 100 procent missing data. "
   ]
  },
  {
   "cell_type": "code",
   "execution_count": 10,
   "metadata": {},
   "outputs": [
    {
     "name": "stdout",
     "output_type": "stream",
     "text": [
      "(99913, 21)\n",
      "(77544, 24)\n",
      "(50379, 31)\n",
      "(22164, 31)\n"
     ]
    }
   ],
   "source": [
    "train_data_0 = delete_rows(train_data_0, stats_0)\n",
    "train_data_1 = delete_rows(train_data_1, stats_1)\n",
    "train_data_2 = delete_rows(train_data_2, stats_2)\n",
    "train_data_3 = delete_rows(train_data_3, stats_3)"
   ]
  },
  {
   "cell_type": "code",
   "execution_count": 11,
   "metadata": {},
   "outputs": [],
   "source": [
    "stats_0 = stat_cols(train_data_0, -999.0)\n",
    "stats_1 = stat_cols(train_data_1, -999.0)\n",
    "stats_2 = stat_cols(train_data_2, -999.0)\n",
    "stats_3 = stat_cols(train_data_3, -999.0)"
   ]
  },
  {
   "cell_type": "code",
   "execution_count": 12,
   "metadata": {},
   "outputs": [
    {
     "name": "stdout",
     "output_type": "stream",
     "text": [
      "[[ 0.         0.       ]\n",
      " [ 0.         0.       ]\n",
      " [ 3.         0.0666396]\n",
      " [ 4.         0.       ]\n",
      " [ 5.         0.       ]\n",
      " [ 6.         0.       ]\n",
      " [ 7.         0.       ]\n",
      " [ 8.         0.       ]\n",
      " [ 9.         0.       ]\n",
      " [10.         0.       ]\n",
      " [11.         0.       ]\n",
      " [12.         0.       ]\n",
      " [13.         0.       ]\n",
      " [14.         0.       ]\n",
      " [15.         0.       ]\n",
      " [16.         0.       ]\n",
      " [17.         0.       ]\n",
      " [18.         0.       ]\n",
      " [19.         0.       ]\n",
      " [20.         0.       ]\n",
      " [21.         0.       ]\n",
      " [22.         0.       ]\n",
      " [23.         0.       ]\n",
      " [24.         0.       ]\n",
      " [25.         0.       ]\n",
      " [26.         0.       ]\n",
      " [27.         0.       ]\n",
      " [28.         0.       ]\n",
      " [29.         0.       ]\n",
      " [30.         0.       ]\n",
      " [31.         0.       ]]\n"
     ]
    }
   ],
   "source": [
    "print(stats_3)"
   ]
  },
  {
   "cell_type": "markdown",
   "metadata": {},
   "source": [
    "## Data Cleaning (Step 2)\n",
    "Insert values for missing Parameters, based on mean. We only use this methode for the second column, because here only a small percent are missing. The function \"executes_mean replacement\" would replace every missing parameter in a column that has less than 30 percent missing data."
   ]
  },
  {
   "cell_type": "code",
   "execution_count": 13,
   "metadata": {},
   "outputs": [],
   "source": [
    "train_data_0 = execute_mean_replacement(train_data_0, stats_0)\n",
    "train_data_1 = execute_mean_replacement(train_data_1, stats_1)\n",
    "train_data_2 = execute_mean_replacement(train_data_2, stats_2)\n",
    "train_data_3 = execute_mean_replacement(train_data_3, stats_3)"
   ]
  },
  {
   "cell_type": "markdown",
   "metadata": {},
   "source": [
    "## Standarization\n",
    "Now we standarize the matrix, except for the index and prediction column"
   ]
  },
  {
   "cell_type": "code",
   "execution_count": 14,
   "metadata": {},
   "outputs": [],
   "source": [
    "train_data_0 = standardize_data(train_data_0)\n",
    "train_data_1 = standardize_data(train_data_1)\n",
    "train_data_2 = standardize_data(train_data_2)\n",
    "train_data_3 = standardize_data(train_data_3)"
   ]
  },
  {
   "cell_type": "code",
   "execution_count": 15,
   "metadata": {},
   "outputs": [
    {
     "name": "stdout",
     "output_type": "stream",
     "text": [
      "(99913, 21)\n",
      "(77544, 24)\n",
      "(50379, 31)\n",
      "(22164, 31)\n"
     ]
    }
   ],
   "source": [
    "print(train_data_0.shape)\n",
    "print(train_data_1.shape)\n",
    "print(train_data_2.shape)\n",
    "print(train_data_3.shape)"
   ]
  },
  {
   "cell_type": "code",
   "execution_count": 16,
   "metadata": {},
   "outputs": [],
   "source": [
    "stats_0 = stat_cols(train_data_0, -999.0)\n",
    "stats_1 = stat_cols(train_data_1, -999.0)\n",
    "stats_2 = stat_cols(train_data_2, -999.0)\n",
    "stats_3 = stat_cols(train_data_3, -999.0)\n"
   ]
  },
  {
   "cell_type": "code",
   "execution_count": 17,
   "metadata": {},
   "outputs": [
    {
     "name": "stdout",
     "output_type": "stream",
     "text": [
      "[[ 0.  0.]\n",
      " [ 0.  0.]\n",
      " [ 3.  0.]\n",
      " [ 4.  0.]\n",
      " [ 5.  0.]\n",
      " [ 6.  0.]\n",
      " [ 7.  0.]\n",
      " [ 8.  0.]\n",
      " [ 9.  0.]\n",
      " [10.  0.]\n",
      " [11.  0.]\n",
      " [12.  0.]\n",
      " [13.  0.]\n",
      " [14.  0.]\n",
      " [15.  0.]\n",
      " [16.  0.]\n",
      " [17.  0.]\n",
      " [18.  0.]\n",
      " [19.  0.]\n",
      " [20.  0.]\n",
      " [21.  0.]\n",
      " [22.  0.]\n",
      " [23.  0.]\n",
      " [24.  0.]\n",
      " [25.  0.]\n",
      " [26.  0.]\n",
      " [27.  0.]\n",
      " [28.  0.]\n",
      " [29.  0.]\n",
      " [30.  0.]\n",
      " [31.  0.]]\n"
     ]
    }
   ],
   "source": [
    "print(stats_3)"
   ]
  },
  {
   "cell_type": "markdown",
   "metadata": {},
   "source": [
    "## Cleaned Data\n",
    "The result of this datacleaning are 4 matrixes that have no missing data at all. The binning is based on the PRI_jet_num. (train_data_0 contains only values of PRI_jet_num equal to 0, ...)"
   ]
  },
  {
   "cell_type": "code",
   "execution_count": 18,
   "metadata": {},
   "outputs": [],
   "source": [
    "save_train_datasets(train_data_0,train_data_1,train_data_2,train_data_3)"
   ]
  }
 ],
 "metadata": {
  "kernelspec": {
   "display_name": "Python 3",
   "language": "python",
   "name": "python3"
  },
  "language_info": {
   "codemirror_mode": {
    "name": "ipython",
    "version": 3
   },
   "file_extension": ".py",
   "mimetype": "text/x-python",
   "name": "python",
   "nbconvert_exporter": "python",
   "pygments_lexer": "ipython3",
   "version": "3.6.5"
  }
 },
 "nbformat": 4,
 "nbformat_minor": 2
}
