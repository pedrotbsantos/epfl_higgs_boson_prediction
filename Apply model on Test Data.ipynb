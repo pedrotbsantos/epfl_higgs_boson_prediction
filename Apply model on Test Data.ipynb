{
 "cells": [
  {
   "cell_type": "markdown",
   "metadata": {},
   "source": [
    "## Apply model on Test Data\n",
    "In this notebook we applied our model from 'Computing Model' on our test Dataset."
   ]
  },
  {
   "cell_type": "code",
   "execution_count": 1,
   "metadata": {},
   "outputs": [],
   "source": [
    "%matplotlib inline\n",
    "#import csv\n",
    "import numpy as np\n",
    "import matplotlib.pyplot as plt\n",
    "from helpers import *\n",
    "from data_cleaning_helpers import *\n",
    "from model import *\n",
    "%load_ext autoreload\n",
    "%autoreload 2\n",
    "\n",
    "dataset_path = 'Data/test.csv'"
   ]
  },
  {
   "cell_type": "markdown",
   "metadata": {},
   "source": [
    "## Load data"
   ]
  },
  {
   "cell_type": "code",
   "execution_count": 2,
   "metadata": {},
   "outputs": [
    {
     "name": "stdout",
     "output_type": "stream",
     "text": [
      "0\n",
      "0\n",
      "0\n",
      "0\n"
     ]
    }
   ],
   "source": [
    "test_data = load_data_csv(dataset_path)\n",
    "check_dependencies(test_data)\n",
    "[w0,w1,w2,w3] = load_ws()"
   ]
  },
  {
   "cell_type": "markdown",
   "metadata": {},
   "source": [
    "## Split and clean the test data"
   ]
  },
  {
   "cell_type": "code",
   "execution_count": 3,
   "metadata": {},
   "outputs": [
    {
     "name": "stdout",
     "output_type": "stream",
     "text": [
      "(227458, 31)\n",
      "(175338, 31)\n",
      "(114648, 31)\n",
      "(50794, 31)\n"
     ]
    }
   ],
   "source": [
    "test_data_0, test_data_1, test_data_2, test_data_3, index_0, index_1, index_2, index_3 = split_data(test_data)\n",
    "print(test_data_0.shape)\n",
    "print(test_data_1.shape)\n",
    "print(test_data_2.shape)\n",
    "print(test_data_3.shape)"
   ]
  },
  {
   "cell_type": "code",
   "execution_count": 4,
   "metadata": {},
   "outputs": [],
   "source": [
    "stats_0 = stat_cols(test_data_0, -999.0)\n",
    "stats_1 = stat_cols(test_data_1, -999.0)\n",
    "stats_2 = stat_cols(test_data_2, -999.0)\n",
    "stats_3 = stat_cols(test_data_3, -999.0)"
   ]
  },
  {
   "cell_type": "code",
   "execution_count": 5,
   "metadata": {},
   "outputs": [
    {
     "name": "stdout",
     "output_type": "stream",
     "text": [
      "[[ 0.          0.        ]\n",
      " [ 0.          0.        ]\n",
      " [ 3.          0.15220383]\n",
      " [ 4.          0.        ]\n",
      " [ 5.          0.        ]\n",
      " [ 6.          0.        ]\n",
      " [ 7.          0.70885087]\n",
      " [ 8.          0.70885087]\n",
      " [ 9.          0.70885087]\n",
      " [10.          0.        ]\n",
      " [11.          0.        ]\n",
      " [12.          0.        ]\n",
      " [13.          0.        ]\n",
      " [14.          0.        ]\n",
      " [15.          0.70885087]\n",
      " [16.          0.        ]\n",
      " [17.          0.        ]\n",
      " [18.          0.        ]\n",
      " [19.          0.        ]\n",
      " [20.          0.        ]\n",
      " [21.          0.        ]\n",
      " [22.          0.        ]\n",
      " [23.          0.        ]\n",
      " [24.          0.        ]\n",
      " [25.          0.        ]\n",
      " [26.          0.4002865 ]\n",
      " [27.          0.4002865 ]\n",
      " [28.          0.4002865 ]\n",
      " [29.          0.70885087]\n",
      " [30.          0.70885087]\n",
      " [31.          0.70885087]\n",
      " [32.          0.        ]]\n"
     ]
    }
   ],
   "source": [
    "stats_original = stat_cols(test_data, -999.0)\n",
    "print(stats_original)"
   ]
  },
  {
   "cell_type": "code",
   "execution_count": 6,
   "metadata": {},
   "outputs": [
    {
     "name": "stdout",
     "output_type": "stream",
     "text": [
      "(227458, 21)\n",
      "(175338, 24)\n",
      "(114648, 31)\n",
      "(50794, 31)\n"
     ]
    }
   ],
   "source": [
    "test_data_0 = delete_rows(test_data_0, stats_0)\n",
    "test_data_1 = delete_rows(test_data_1, stats_1)\n",
    "test_data_2 = delete_rows(test_data_2, stats_2)\n",
    "test_data_3 = delete_rows(test_data_3, stats_3)"
   ]
  },
  {
   "cell_type": "code",
   "execution_count": 7,
   "metadata": {},
   "outputs": [],
   "source": [
    "stats_0 = stat_cols(test_data_0, -999.0)\n",
    "stats_1 = stat_cols(test_data_1, -999.0)\n",
    "stats_2 = stat_cols(test_data_2, -999.0)\n",
    "stats_3 = stat_cols(test_data_3, -999.0)"
   ]
  },
  {
   "cell_type": "code",
   "execution_count": 8,
   "metadata": {},
   "outputs": [
    {
     "name": "stdout",
     "output_type": "stream",
     "text": [
      "[[ 0.          0.        ]\n",
      " [ 0.          0.        ]\n",
      " [ 3.          0.06376737]\n",
      " [ 4.          0.        ]\n",
      " [ 5.          0.        ]\n",
      " [ 6.          0.        ]\n",
      " [ 7.          0.        ]\n",
      " [ 8.          0.        ]\n",
      " [ 9.          0.        ]\n",
      " [10.          0.        ]\n",
      " [11.          0.        ]\n",
      " [12.          0.        ]\n",
      " [13.          0.        ]\n",
      " [14.          0.        ]\n",
      " [15.          0.        ]\n",
      " [16.          0.        ]\n",
      " [17.          0.        ]\n",
      " [18.          0.        ]\n",
      " [19.          0.        ]\n",
      " [20.          0.        ]\n",
      " [21.          0.        ]\n",
      " [22.          0.        ]\n",
      " [23.          0.        ]\n",
      " [24.          0.        ]\n",
      " [25.          0.        ]\n",
      " [26.          0.        ]\n",
      " [27.          0.        ]\n",
      " [28.          0.        ]\n",
      " [29.          0.        ]\n",
      " [30.          0.        ]\n",
      " [31.          0.        ]]\n"
     ]
    }
   ],
   "source": [
    "print(stats_3)"
   ]
  },
  {
   "cell_type": "code",
   "execution_count": 9,
   "metadata": {},
   "outputs": [],
   "source": [
    "test_data_0 = execute_mean_replacement(test_data_0, stats_0)\n",
    "test_data_1 = execute_mean_replacement(test_data_1, stats_1)\n",
    "test_data_2 = execute_mean_replacement(test_data_2, stats_2)\n",
    "test_data_3 = execute_mean_replacement(test_data_3, stats_3)"
   ]
  },
  {
   "cell_type": "code",
   "execution_count": 10,
   "metadata": {},
   "outputs": [
    {
     "name": "stdout",
     "output_type": "stream",
     "text": [
      "[[ 3.50004000e+05  1.00000000e+00  7.41590000e+01 ...  3.35000000e-01\n",
      "   2.58700000e+00  5.99213000e+02]\n",
      " [ 3.50022000e+05  1.00000000e+00  8.02560000e+01 ...  1.26700000e+00\n",
      "  -9.88000000e-01  4.02856000e+02]\n",
      " [ 3.50025000e+05  1.00000000e+00  1.03413000e+02 ... -6.23000000e-01\n",
      "  -2.16300000e+00  1.82901000e+02]\n",
      " ...\n",
      " [ 9.18203000e+05  1.00000000e+00  1.28352000e+02 ...  1.69000000e-01\n",
      "  -2.29100000e+00  1.80744000e+02]\n",
      " [ 9.18223000e+05  1.00000000e+00  1.22597652e+02 ... -5.04000000e-01\n",
      "   8.32000000e-01  3.69304000e+02]\n",
      " [ 9.18230000e+05  1.00000000e+00  8.12720000e+01 ... -1.38400000e+00\n",
      "   2.74700000e+00  3.20076000e+02]]\n"
     ]
    }
   ],
   "source": [
    "print(test_data_3)"
   ]
  },
  {
   "cell_type": "code",
   "execution_count": 11,
   "metadata": {},
   "outputs": [],
   "source": [
    "test_data_0 = standardize_data(test_data_0)\n",
    "test_data_1 = standardize_data(test_data_1)\n",
    "test_data_2 = standardize_data(test_data_2)\n",
    "test_data_3 = standardize_data(test_data_3)"
   ]
  },
  {
   "cell_type": "code",
   "execution_count": 12,
   "metadata": {},
   "outputs": [
    {
     "name": "stdout",
     "output_type": "stream",
     "text": [
      "(227458, 21)\n",
      "(175338, 24)\n",
      "(114648, 31)\n",
      "(50794, 31)\n"
     ]
    }
   ],
   "source": [
    "print(test_data_0.shape)\n",
    "print(test_data_1.shape)\n",
    "print(test_data_2.shape)\n",
    "print(test_data_3.shape)"
   ]
  },
  {
   "cell_type": "code",
   "execution_count": 13,
   "metadata": {},
   "outputs": [],
   "source": [
    "stats_0 = stat_cols(test_data_0, -999.0)\n",
    "stats_1 = stat_cols(test_data_1, -999.0)\n",
    "stats_2 = stat_cols(test_data_2, -999.0)\n",
    "stats_3 = stat_cols(test_data_3, -999.0)"
   ]
  },
  {
   "cell_type": "code",
   "execution_count": 14,
   "metadata": {},
   "outputs": [
    {
     "name": "stdout",
     "output_type": "stream",
     "text": [
      "[[ 0.  0.]\n",
      " [ 0.  0.]\n",
      " [ 3.  0.]\n",
      " [ 4.  0.]\n",
      " [ 5.  0.]\n",
      " [ 6.  0.]\n",
      " [ 7.  0.]\n",
      " [ 8.  0.]\n",
      " [ 9.  0.]\n",
      " [10.  0.]\n",
      " [11.  0.]\n",
      " [12.  0.]\n",
      " [13.  0.]\n",
      " [14.  0.]\n",
      " [15.  0.]\n",
      " [16.  0.]\n",
      " [17.  0.]\n",
      " [18.  0.]\n",
      " [19.  0.]\n",
      " [20.  0.]\n",
      " [21.  0.]\n",
      " [22.  0.]\n",
      " [23.  0.]\n",
      " [24.  0.]\n",
      " [25.  0.]\n",
      " [26.  0.]\n",
      " [27.  0.]\n",
      " [28.  0.]\n",
      " [29.  0.]\n",
      " [30.  0.]\n",
      " [31.  0.]]\n"
     ]
    }
   ],
   "source": [
    "print(stats_3)"
   ]
  },
  {
   "cell_type": "markdown",
   "metadata": {},
   "source": [
    "## Split test data in indices and feature columns"
   ]
  },
  {
   "cell_type": "code",
   "execution_count": 15,
   "metadata": {},
   "outputs": [],
   "source": [
    "x0 = test_data_0[:,2:]\n",
    "x1 = test_data_1[:,2:]\n",
    "x2 = test_data_2[:,2:]\n",
    "x3 = test_data_3[:,2:]\n",
    "index0 = test_data_0[:,0]\n",
    "index1 = test_data_1[:,0]\n",
    "index2 = test_data_2[:,0]\n",
    "index3 = test_data_3[:,0]"
   ]
  },
  {
   "cell_type": "markdown",
   "metadata": {},
   "source": [
    "## Expand the features based on the degree of the best model found\n",
    "The value of these degrees were returned and printed in 'Computing Model'"
   ]
  },
  {
   "cell_type": "code",
   "execution_count": 16,
   "metadata": {},
   "outputs": [],
   "source": [
    "poly0 = feat_exp(x0,2)\n",
    "poly1 = feat_exp(x1,5)\n",
    "poly2 = feat_exp(x2,2)\n",
    "poly3 = feat_exp(x3,5)"
   ]
  },
  {
   "cell_type": "markdown",
   "metadata": {},
   "source": [
    "## Predict the values of y with the computed models\n",
    "The threshold value are the best one found for each model as computed in 'Computing Model'"
   ]
  },
  {
   "cell_type": "code",
   "execution_count": 17,
   "metadata": {},
   "outputs": [],
   "source": [
    "pred0 = predict(poly0,w0,0.627, 0)\n",
    "pred1 = predict(poly1,w1,0.624, 0)\n",
    "pred2 = predict(poly2,w2,0.6235, 0)\n",
    "pred3 = predict(poly3,w3,0.628, 0)"
   ]
  },
  {
   "cell_type": "code",
   "execution_count": 18,
   "metadata": {},
   "outputs": [],
   "source": [
    "merged_data = merge_data(index0, index1, index2, index3, pred0, pred1, pred2, pred3)"
   ]
  },
  {
   "cell_type": "code",
   "execution_count": 19,
   "metadata": {},
   "outputs": [],
   "source": [
    "create_csv_submission(merged_data[:,0], merged_data[:,1], 'test_pred.csv')"
   ]
  },
  {
   "cell_type": "code",
   "execution_count": 20,
   "metadata": {},
   "outputs": [
    {
     "name": "stdout",
     "output_type": "stream",
     "text": [
      "[[ 3.50000e+05 -1.00000e+00]\n",
      " [ 3.50001e+05 -1.00000e+00]\n",
      " [ 3.50002e+05 -1.00000e+00]\n",
      " ...\n",
      " [ 9.18235e+05  1.00000e+00]\n",
      " [ 9.18236e+05 -1.00000e+00]\n",
      " [ 9.18237e+05 -1.00000e+00]]\n"
     ]
    }
   ],
   "source": [
    "print(merged_data)"
   ]
  },
  {
   "cell_type": "code",
   "execution_count": null,
   "metadata": {},
   "outputs": [],
   "source": []
  }
 ],
 "metadata": {
  "kernelspec": {
   "display_name": "Python 3",
   "language": "python",
   "name": "python3"
  },
  "language_info": {
   "codemirror_mode": {
    "name": "ipython",
    "version": 3
   },
   "file_extension": ".py",
   "mimetype": "text/x-python",
   "name": "python",
   "nbconvert_exporter": "python",
   "pygments_lexer": "ipython3",
   "version": "3.6.5"
  }
 },
 "nbformat": 4,
 "nbformat_minor": 2
}
